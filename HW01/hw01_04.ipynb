{
 "cells": [
  {
   "cell_type": "code",
   "execution_count": 18,
   "metadata": {},
   "outputs": [],
   "source": [
    "width = 15\n",
    "length = 16\n",
    "height = 15"
   ]
  },
  {
   "cell_type": "code",
   "execution_count": 19,
   "metadata": {},
   "outputs": [
    {
     "name": "stdout",
     "output_type": "stream",
     "text": [
      "Стандартная коробка №3\n"
     ]
    }
   ],
   "source": [
    "box = ''\n",
    "\n",
    "if width <= 15 and length <= 15 and height <= 15:\n",
    "    box = \"Коробка №1\"\n",
    "elif width <= 50 and length <= 50 and height <= 50:\n",
    "    box = \"Коробка №2\"\n",
    "elif length > 200:\n",
    "    box = \"Упаковка для лыж\"\n",
    "else:\n",
    "    box = \"Стандартная коробка №3\"\n",
    "\n",
    "print(box)"
   ]
  }
 ],
 "metadata": {
  "kernelspec": {
   "display_name": "Python 3",
   "language": "python",
   "name": "python3"
  },
  "language_info": {
   "codemirror_mode": {
    "name": "ipython",
    "version": 3
   },
   "file_extension": ".py",
   "mimetype": "text/x-python",
   "name": "python",
   "nbconvert_exporter": "python",
   "pygments_lexer": "ipython3",
   "version": "3.8.3"
  }
 },
 "nbformat": 4,
 "nbformat_minor": 4
}

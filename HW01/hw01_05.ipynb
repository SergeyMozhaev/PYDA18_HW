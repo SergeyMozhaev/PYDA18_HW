{
 "cells": [
  {
   "cell_type": "code",
   "execution_count": 40,
   "metadata": {},
   "outputs": [],
   "source": [
    "number = 987888"
   ]
  },
  {
   "cell_type": "code",
   "execution_count": null,
   "metadata": {},
   "outputs": [],
   "source": [
    "sum1 = int(number / 100000)\n",
    "number = number % 100000\n",
    "print(sum1)\n",
    "sum1 += int(number / 10000)\n",
    "number = number % 10000\n",
    "print(sum1)\n",
    "sum1 += int(number / 1000)\n",
    "number = number % 1000\n",
    "print(sum1)\n",
    "\n",
    "sum2 = int(number / 100)\n",
    "number = number % 100\n",
    "print(sum2)\n",
    "sum2 += int(number / 10)\n",
    "number = number % 10\n",
    "print(sum2)\n",
    "sum2 += int(number)\n",
    "print(sum2)\n",
    "\n",
    "if sum1 == sum2:\n",
    "    print(\"Счастливый билет\")\n",
    "else:\n",
    "    print(\"Несчастливый билет\")"
   ]
  }
 ],
 "metadata": {
  "kernelspec": {
   "display_name": "Python 3",
   "language": "python",
   "name": "python3"
  },
  "language_info": {
   "codemirror_mode": {
    "name": "ipython",
    "version": 3
   },
   "file_extension": ".py",
   "mimetype": "text/x-python",
   "name": "python",
   "nbconvert_exporter": "python",
   "pygments_lexer": "ipython3",
   "version": "3.8.3"
  }
 },
 "nbformat": 4,
 "nbformat_minor": 4
}
